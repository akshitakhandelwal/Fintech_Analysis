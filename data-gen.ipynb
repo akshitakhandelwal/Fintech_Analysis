{
 "cells": [
  {
   "cell_type": "code",
   "execution_count": 24,
   "id": "ba570842-7a99-4b59-b2f8-9943b28fb6da",
   "metadata": {},
   "outputs": [],
   "source": [
    "from faker import Faker\n",
    "import random\n",
    "import mysql.connector\n",
    "from datetime import datetime,timedelta"
   ]
  },
  {
   "cell_type": "code",
   "execution_count": 2,
   "id": "69c2af4f-8475-4c6f-a2f4-41829b3ed5bf",
   "metadata": {},
   "outputs": [],
   "source": [
    "faker=Faker()"
   ]
  },
  {
   "cell_type": "code",
   "execution_count": 7,
   "id": "3b97a374-f8da-4ae2-b190-21754bbfd3cf",
   "metadata": {},
   "outputs": [],
   "source": [
    "conn = mysql.connector.connect(\n",
    "    host=\"localhost\",\n",
    "    user=\"root\",     \n",
    "    password=\"akshita1234\",  \n",
    "    database=\"fintech\"\n",
    ")"
   ]
  },
  {
   "cell_type": "code",
   "execution_count": 8,
   "id": "2773a175-36f2-4bc9-8049-020efed8690b",
   "metadata": {},
   "outputs": [],
   "source": [
    "cursor = conn.cursor()"
   ]
  },
  {
   "cell_type": "code",
   "execution_count": 9,
   "id": "3954c456-dfb6-4732-9818-073bdd2dfd0f",
   "metadata": {},
   "outputs": [],
   "source": [
    "cities = ['Mumbai', 'Delhi', 'Bangalore', 'Hyderabad', 'Pune', 'Chennai']\n",
    "kyc_statuses = ['Verified', 'Pending', 'Rejected']\n",
    "user_count = 1000"
   ]
  },
  {
   "cell_type": "code",
   "execution_count": 12,
   "id": "d2b540dd-2057-444a-8233-cc9aa68a2c11",
   "metadata": {},
   "outputs": [],
   "source": [
    "for _ in range(user_count):\n",
    "    full_name = faker.name()\n",
    "    phone = faker.phone_number()[:10]\n",
    "    email = faker.email()\n",
    "    kyc_status = random.choices(kyc_statuses, weights=[0.7, 0.2, 0.1])[0]\n",
    "    signup_date = faker.date_between(start_date='-2y', end_date='today')\n",
    "    city = random.choice(cities)\n",
    "    annual_income = random.randint(200000, 2500000)\n",
    "    dob = faker.date_of_birth(minimum_age=18, maximum_age=60)\n",
    "\n",
    "    cursor.execute(\"\"\"\n",
    "        INSERT INTO users (full_name, phone, email, kyc_status, signup_date, city, annual_income, dob)\n",
    "        VALUES (%s, %s, %s, %s, %s, %s, %s, %s)\n",
    "    \"\"\", (full_name, phone, email, kyc_status, signup_date, city, annual_income, dob))\n"
   ]
  },
  {
   "cell_type": "code",
   "execution_count": 13,
   "id": "96154a51-38b5-4947-b483-a39d0f31d881",
   "metadata": {},
   "outputs": [
    {
     "name": "stdout",
     "output_type": "stream",
     "text": [
      "1000 fake users inserted successfully!\n"
     ]
    }
   ],
   "source": [
    "conn.commit()\n",
    "cursor.close()\n",
    "conn.close()\n",
    "\n",
    "print(f\"{user_count} fake users inserted successfully!\")"
   ]
  },
  {
   "cell_type": "code",
   "execution_count": 15,
   "id": "b5eb0d0d-06f6-4f5a-b2d7-b77978506378",
   "metadata": {},
   "outputs": [],
   "source": [
    "conn = mysql.connector.connect(\n",
    "    host=\"localhost\",\n",
    "    user=\"root\",     \n",
    "    password=\"akshita1234\",  \n",
    "    database=\"fintech\"\n",
    ")"
   ]
  },
  {
   "cell_type": "code",
   "execution_count": 16,
   "id": "246ce6e2-8574-4245-ab06-9944ae17a66c",
   "metadata": {},
   "outputs": [],
   "source": [
    "cursor = conn.cursor()"
   ]
  },
  {
   "cell_type": "code",
   "execution_count": 21,
   "id": "2fbf0b4c-942e-4ac3-ba67-d3f12bfa090d",
   "metadata": {},
   "outputs": [],
   "source": [
    "cursor.execute(\"SELECT user_id, annual_income, signup_date FROM users\")\n",
    "users = cursor.fetchall()"
   ]
  },
  {
   "cell_type": "code",
   "execution_count": 26,
   "id": "2ef0fca2-0334-4068-b72f-a62cb672231d",
   "metadata": {},
   "outputs": [],
   "source": [
    "count=0\n",
    "for user_id, income, signup_date in users:\n",
    "    # Wallet balance: ₹0 to ₹1,00,000\n",
    "    wallet_balance = round(random.uniform(0, 100000), 2)\n",
    "\n",
    "    # Credit limit: based on income tier\n",
    "    if income < 500000:\n",
    "        credit_limit = random.uniform(5000, 15000)\n",
    "    elif income < 1000000:\n",
    "        credit_limit = random.uniform(20000, 50000)\n",
    "    else:\n",
    "        credit_limit = random.uniform(60000, 100000)\n",
    "\n",
    "    # Account created after signup (up to 7 days later)\n",
    "    created_on = signup_date + timedelta(days=random.randint(0, 7))\n",
    "\n",
    "    # Insert into accounts table\n",
    "    cursor.execute(\"\"\"\n",
    "        INSERT INTO accounts (user_id, wallet_balance, credit_limit, created_on)\n",
    "        VALUES (%s, %s, %s, %s)\n",
    "    \"\"\", (user_id, round(wallet_balance, 2), round(credit_limit, 2), created_on))\n",
    "\n",
    "    count += 1\n",
    "\n",
    "conn.commit()"
   ]
  },
  {
   "cell_type": "code",
   "execution_count": 27,
   "id": "50e0d178-1ada-456f-9200-f27091026819",
   "metadata": {},
   "outputs": [],
   "source": [
    "cursor.execute(\"SELECT account_id FROM accounts\")\n",
    "account_ids = [row[0] for row in cursor.fetchall()]"
   ]
  },
  {
   "cell_type": "code",
   "execution_count": 29,
   "id": "2cd3ff12-c1f4-4c33-86e1-56e0e037c207",
   "metadata": {},
   "outputs": [],
   "source": [
    "merchants = ['Amazon', 'Flipkart', 'Zomato', 'Swiggy', 'Myntra', 'IRCTC', 'Netflix', 'Google', 'PhonePe', 'Cred', 'Paytm']\n",
    "txn_types = ['Wallet', 'UPI', 'Credit', 'BNPL', 'Refund']\n",
    "statuses = ['Success', 'Failed', 'Reversed']\n",
    "num_txs=15000"
   ]
  },
  {
   "cell_type": "code",
   "execution_count": 31,
   "id": "ce5c34f9-19f9-4312-89a2-c17e565623de",
   "metadata": {},
   "outputs": [],
   "source": [
    "for _ in range(num_txs):\n",
    "    account_id = random.choice(account_ids)\n",
    "    txn_type = random.choices(txn_types, weights=[0.4, 0.3, 0.2, 0.07, 0.03])[0]\n",
    "    amount = round(random.uniform(10, 10000), 2)\n",
    "    txn_time = faker.date_time_between(start_date='-12M', end_date='now')\n",
    "    merchant = random.choice(merchants)\n",
    "    status = random.choices(statuses, weights=[0.92, 0.06, 0.02])[0]\n",
    "\n",
    "    cursor.execute(\"\"\"\n",
    "        INSERT INTO transactions (account_id, txn_type, amount, txn_time, merchant, status)\n",
    "        VALUES (%s, %s, %s, %s, %s, %s)\n",
    "    \"\"\", (account_id, txn_type, amount, txn_time, merchant, status))\n",
    "\n",
    "conn.commit()"
   ]
  },
  {
   "cell_type": "code",
   "execution_count": 32,
   "id": "3c6aecd3-b866-4df9-9bfc-dfbb05a8754a",
   "metadata": {},
   "outputs": [],
   "source": [
    "cursor.execute(\"SELECT user_id FROM users\")\n",
    "users = [row[0] for row in cursor.fetchall()]\n",
    "\n",
    "loan_types = ['BNPL', 'InstantCredit', 'Personal']\n",
    "statuses = ['Active', 'Closed', 'Defaulted']\n",
    "loan_count = 0"
   ]
  },
  {
   "cell_type": "code",
   "execution_count": 34,
   "id": "9f1e89ac-ddb8-4cc5-89ce-dbde764d2c90",
   "metadata": {},
   "outputs": [],
   "source": [
    "for user_id in users:\n",
    "    \n",
    "    if random.random() < 0.6:\n",
    "        loan_type = random.choices(loan_types, weights=[0.5, 0.3, 0.2])[0]\n",
    "        principal = round(random.uniform(5000, 200000), 2)\n",
    "        tenure = random.choice([3, 6, 9, 12, 18, 24])\n",
    "        interest_rate = round(random.uniform(9.0, 18.0), 2)\n",
    "        start_date = faker.date_between(start_date='-1y', end_date='-30d')\n",
    "        status = random.choices(statuses, weights=[0.6, 0.3, 0.1])[0]\n",
    "\n",
    "        cursor.execute(\"\"\"\n",
    "            INSERT INTO loans (user_id, loan_type, principal, start_date, tenure_months, interest_rate, status)\n",
    "            VALUES (%s, %s, %s, %s, %s, %s, %s)\n",
    "        \"\"\", (user_id, loan_type, principal, start_date, tenure, interest_rate, status))\n",
    "\n",
    "        loan_count += 1\n",
    "\n",
    "conn.commit()"
   ]
  },
  {
   "cell_type": "code",
   "execution_count": 35,
   "id": "ea7f0bc5-4bf2-461e-98d6-fc1d89c1c2e1",
   "metadata": {},
   "outputs": [],
   "source": [
    "cursor.execute(\"SELECT loan_id, principal, tenure_months, start_date FROM loans\")\n",
    "loans = cursor.fetchall()\n",
    "\n",
    "repayment_count = 0"
   ]
  },
  {
   "cell_type": "code",
   "execution_count": 36,
   "id": "97a16e3e-d09b-4546-8b9b-2304a5b830c2",
   "metadata": {},
   "outputs": [],
   "source": [
    "for loan_id, principal, tenure, start_date in loans:\n",
    "    monthly_amount = round(principal / tenure, 2)\n",
    "\n",
    "    for month in range(tenure):\n",
    "        due_date = start_date + timedelta(days=30 * month)\n",
    "\n",
    "        \n",
    "        roll = random.random()\n",
    "        if roll < 0.75:\n",
    "            status = 'Paid'\n",
    "            delay = random.choice([0, 1, 2, 3])  \n",
    "        elif roll < 0.90:\n",
    "            status = 'Late'\n",
    "            delay = random.randint(4, 15)\n",
    "        else:\n",
    "            status = 'Missed'\n",
    "            delay = None\n",
    "\n",
    "        paid_on = None if status == 'Missed' else due_date + timedelta(days=delay)\n",
    "\n",
    "        cursor.execute(\"\"\"\n",
    "            INSERT INTO repayments (loan_id, due_date, paid_on, amount_paid, status)\n",
    "            VALUES (%s, %s, %s, %s, %s)\n",
    "        \"\"\", (loan_id, due_date, paid_on, monthly_amount if status != 'Missed' else 0.00, status))\n",
    "\n",
    "        repayment_count += 1\n",
    "\n",
    "conn.commit()"
   ]
  },
  {
   "cell_type": "code",
   "execution_count": 37,
   "id": "4329c4ef-d33b-4ab6-8495-79156a6cf813",
   "metadata": {},
   "outputs": [],
   "source": [
    "cursor.execute(\"SELECT user_id FROM users\")\n",
    "user_ids = [row[0] for row in cursor.fetchall()]\n",
    "\n",
    "sources = ['CIBIL', 'Experian', 'InternalAI']\n",
    "score_count = 0"
   ]
  },
  {
   "cell_type": "code",
   "execution_count": 38,
   "id": "e0b6056b-3713-4c19-936f-99b0991557e5",
   "metadata": {},
   "outputs": [],
   "source": [
    "for user_id in user_ids:\n",
    "    for month_offset in range(12):\n",
    "        score_date = datetime.today().replace(day=1) - timedelta(days=month_offset*30)\n",
    "        score = random.randint(300, 900)  # CIBIL scale\n",
    "        source = random.choice(sources)\n",
    "\n",
    "        cursor.execute(\"\"\"\n",
    "            INSERT INTO credit_scores (user_id, score, reported_on, source)\n",
    "            VALUES (%s, %s, %s, %s)\n",
    "        \"\"\", (user_id, score, score_date.date(), source))\n",
    "\n",
    "        score_count += 1\n",
    "\n",
    "conn.commit()"
   ]
  },
  {
   "cell_type": "code",
   "execution_count": 39,
   "id": "4b5252d8-9936-45a6-9dfe-5f19047b33d2",
   "metadata": {},
   "outputs": [],
   "source": [
    "cursor.execute(\"SELECT txn_id, txn_time FROM transactions WHERE amount > 7500 AND status = 'Success'\")\n",
    "txns = cursor.fetchall()"
   ]
  },
  {
   "cell_type": "code",
   "execution_count": 42,
   "id": "e0a7515e-0f6d-4dd7-88fe-21aae354d087",
   "metadata": {},
   "outputs": [],
   "source": [
    "flag_reasons = [\n",
    "    \"High-value transaction\",\n",
    "    \"Unusual merchant pattern\",\n",
    "    \"Multiple failed attempts\",\n",
    "    \"Transaction at odd hours\",\n",
    "    \"IP/location mismatch\"\n",
    "]"
   ]
  },
  {
   "cell_type": "code",
   "execution_count": 43,
   "id": "c098f1df-0013-4650-b004-916a41cdb4cb",
   "metadata": {},
   "outputs": [],
   "source": [
    "flag_count=0\n",
    "for txn_id, txn_time in txns:\n",
    "    if random.random() < 0.25:  # 25% of high-value txns are flagged\n",
    "        reason = random.choice(flag_reasons)\n",
    "        flagged_on = txn_time + timedelta(minutes=random.randint(1, 60))\n",
    "        resolved = random.choice([True, False])\n",
    "\n",
    "        cursor.execute(\"\"\"\n",
    "            INSERT INTO fraud_flags (txn_id, reason, flagged_on, resolved)\n",
    "            VALUES (%s, %s, %s, %s)\n",
    "        \"\"\", (txn_id, reason, flagged_on, resolved))\n",
    "\n",
    "        flag_count += 1\n",
    "\n",
    "conn.commit()"
   ]
  },
  {
   "cell_type": "code",
   "execution_count": null,
   "id": "be1be385-17bc-4026-99c6-fbdd121c15d9",
   "metadata": {},
   "outputs": [],
   "source": []
  }
 ],
 "metadata": {
  "kernelspec": {
   "display_name": "Python 3 (ipykernel)",
   "language": "python",
   "name": "python3"
  },
  "language_info": {
   "codemirror_mode": {
    "name": "ipython",
    "version": 3
   },
   "file_extension": ".py",
   "mimetype": "text/x-python",
   "name": "python",
   "nbconvert_exporter": "python",
   "pygments_lexer": "ipython3",
   "version": "3.13.3"
  }
 },
 "nbformat": 4,
 "nbformat_minor": 5
}
